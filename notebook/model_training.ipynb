{
 "cells": [
  {
   "cell_type": "code",
   "execution_count": 25,
   "id": "2f7e4788",
   "metadata": {},
   "outputs": [],
   "source": [
    "import pandas as pd\n",
    "import numpy as np\n",
    "import os\n",
    "import joblib\n",
    "\n",
    "from sklearn.model_selection import train_test_split, GridSearchCV\n",
    "from sklearn.preprocessing import StandardScaler\n",
    "from sklearn.ensemble import RandomForestRegressor\n",
    "from sklearn.ensemble import RandomForestClassifier\n",
    "from sklearn.metrics import mean_squared_error, r2_score\n",
    "from sklearn.metrics import accuracy_score\n",
    "from sklearn.metrics import classification_report\n"
   ]
  },
  {
   "cell_type": "code",
   "execution_count": 4,
   "id": "235443ce",
   "metadata": {},
   "outputs": [],
   "source": [
    "import pandas as pd\n",
    "import numpy as np\n",
    "\n",
    "# Load data\n",
    "df = pd.read_csv(\"../notebook/data/OnlineNewsPopularity.csv\")\n",
    "\n",
    "# Clean column names\n",
    "df.columns = df.columns.str.strip()\n",
    "\n",
    "# Optional: Drop unwanted columns\n",
    "df = df.drop(columns=['url', 'timedelta'], errors='ignore')\n",
    "\n",
    "# Confirm 'shares' exists before log-transforming\n",
    "if 'shares' in df.columns:\n",
    "    df['log_shares'] = np.log1p(df['shares'])\n",
    "else:\n",
    "    raise KeyError(\"'shares' column not found in the dataset\")\n",
    "\n"
   ]
  },
  {
   "cell_type": "code",
   "execution_count": 10,
   "id": "ce30e01a",
   "metadata": {},
   "outputs": [],
   "source": [
    "df.replace({'TRUE': 1, 'FALSE': 0}, inplace=True)"
   ]
  },
  {
   "cell_type": "code",
   "execution_count": 11,
   "id": "2a7f796a",
   "metadata": {},
   "outputs": [],
   "source": [
    "df = df.apply(pd.to_numeric, errors='coerce')"
   ]
  },
  {
   "cell_type": "code",
   "execution_count": 12,
   "id": "06dbded2",
   "metadata": {},
   "outputs": [],
   "source": [
    "df.fillna(0, inplace=True)"
   ]
  },
  {
   "cell_type": "code",
   "execution_count": 13,
   "id": "d28c25fa",
   "metadata": {},
   "outputs": [],
   "source": [
    "X = df.drop(columns=['shares', 'log_shares'], errors='ignore')\n",
    "y = df['log_shares']"
   ]
  },
  {
   "cell_type": "code",
   "execution_count": 17,
   "id": "5ddab750",
   "metadata": {},
   "outputs": [],
   "source": [
    "def classify_popularity(shares):\n",
    "    if shares < 1400:\n",
    "        return 0  # Low\n",
    "    elif shares < 5000:\n",
    "        return 1  # Medium\n",
    "    else:\n",
    "        return 2  # High\n",
    "\n",
    "df['popularity_class'] = df['shares'].apply(classify_popularity)"
   ]
  },
  {
   "cell_type": "code",
   "execution_count": 18,
   "id": "43376514",
   "metadata": {},
   "outputs": [],
   "source": [
    "X = df.drop(columns=['shares', 'log_shares', 'popularity_class'], errors='ignore')"
   ]
  },
  {
   "cell_type": "code",
   "execution_count": 14,
   "id": "8f6f139c",
   "metadata": {},
   "outputs": [],
   "source": [
    "scaler = StandardScaler()\n",
    "X_scaled = scaler.fit_transform(X)"
   ]
  },
  {
   "cell_type": "code",
   "execution_count": 19,
   "id": "679ef9c0",
   "metadata": {},
   "outputs": [
    {
     "name": "stdout",
     "output_type": "stream",
     "text": [
      "\n",
      "🔢 Regression Model:\n",
      "✅ RMSE: 0.8500820301624693\n",
      "✅ R² Score: 0.15698251686960707\n"
     ]
    }
   ],
   "source": [
    "y_reg = df['log_shares']\n",
    "X_train_r, X_test_r, y_train_r, y_test_r = train_test_split(X_scaled, y_reg, test_size=0.2, random_state=42)\n",
    "\n",
    "reg_model = RandomForestRegressor(random_state=42)\n",
    "reg_model.fit(X_train_r, y_train_r)\n",
    "\n",
    "y_pred_r = reg_model.predict(X_test_r)\n",
    "rmse = np.sqrt(mean_squared_error(y_test_r, y_pred_r))\n",
    "r2 = r2_score(y_test_r, y_pred_r)\n",
    "\n",
    "print(\"\\n🔢 Regression Model:\")\n",
    "print(f\"✅ RMSE: {rmse}\")\n",
    "print(f\"✅ R² Score: {r2}\")"
   ]
  },
  {
   "cell_type": "code",
   "execution_count": 26,
   "id": "097d1b38",
   "metadata": {},
   "outputs": [
    {
     "name": "stdout",
     "output_type": "stream",
     "text": [
      "\n",
      "🏷️ Classification Model:\n",
      "✅ Accuracy: 0.5686719636776391\n",
      "✅ Classification Report:\n",
      "              precision    recall  f1-score   support\n",
      "\n",
      "         Low       0.62      0.72      0.66      3774\n",
      "      Medium       0.51      0.56      0.53      3118\n",
      "        High       0.42      0.05      0.09      1037\n",
      "\n",
      "    accuracy                           0.57      7929\n",
      "   macro avg       0.51      0.44      0.43      7929\n",
      "weighted avg       0.55      0.57      0.54      7929\n",
      "\n"
     ]
    }
   ],
   "source": [
    "y_cls = df['popularity_class']\n",
    "X_train_c, X_test_c, y_train_c, y_test_c = train_test_split(X_scaled, y_cls, test_size=0.2, random_state=42)\n",
    "\n",
    "cls_model = RandomForestClassifier(random_state=42)\n",
    "cls_model.fit(X_train_c, y_train_c)\n",
    "\n",
    "y_pred_c = cls_model.predict(X_test_c)\n",
    "accuracy = accuracy_score(y_test_c, y_pred_c)\n",
    "\n",
    "print(\"\\n🏷️ Classification Model:\")\n",
    "print(f\"✅ Accuracy: {accuracy}\")\n",
    "print(\"✅ Classification Report:\")\n",
    "labels = sorted(y_test_c.unique())  \n",
    "target_names = [\"Low\", \"Medium\", \"High\"]\n",
    "selected_names = [target_names[i] for i in labels]\n",
    "\n",
    "print(classification_report(y_test_c, y_pred_c, target_names=selected_names))"
   ]
  }
 ],
 "metadata": {
  "kernelspec": {
   "display_name": "Python (env)",
   "language": "python",
   "name": "env"
  },
  "language_info": {
   "codemirror_mode": {
    "name": "ipython",
    "version": 3
   },
   "file_extension": ".py",
   "mimetype": "text/x-python",
   "name": "python",
   "nbconvert_exporter": "python",
   "pygments_lexer": "ipython3",
   "version": "3.10.0"
  }
 },
 "nbformat": 4,
 "nbformat_minor": 5
}
